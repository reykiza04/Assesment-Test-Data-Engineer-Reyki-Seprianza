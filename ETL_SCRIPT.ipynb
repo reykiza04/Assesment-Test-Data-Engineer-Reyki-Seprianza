{
 "cells": [
  {
   "cell_type": "markdown",
   "metadata": {},
   "source": [
    "Note: \n",
    "- previously I using SISS to perform ETL and found a lack of configurational issues, so I decided to use Python instead of SQL Server Integrate System\n",
    "- link to gsheet [link to gsheet](https://docs.google.com/spreadsheets/d/1js7cpHdC-CIgTs-GqAXKkpOlasi_7i-d38Bfx9A-U9o/edit?usp=sharing)"
   ]
  },
  {
   "cell_type": "code",
   "execution_count": 2,
   "metadata": {},
   "outputs": [],
   "source": [
    "# pip install pandas mysql-connector-python gspread oauth2client"
   ]
  },
  {
   "cell_type": "code",
   "execution_count": 3,
   "metadata": {},
   "outputs": [],
   "source": [
    "#import package to jupiter notebook\n",
    "import numpy as np\n",
    "import pandas as pd\n",
    "import json\n",
    "import re\n",
    "import time\n",
    "from urllib.parse import quote\n",
    "import sqlalchemy as sql\n",
    "from sqlalchemy.pool import NullPool\n",
    "# import gc\n",
    "from datetime import datetime, timedelta\n",
    "from sqlalchemy.sql import text\n",
    "# import calendar\n",
    "# import gspread\n",
    "from oauth2client.service_account import ServiceAccountCredentials\n",
    "import gspread\n",
    "\n",
    "pd.set_option('display.max_columns', None)\n",
    "from playsound import playsound\n",
    "\n",
    "# playsound('avenger.mpeg')"
   ]
  },
  {
   "cell_type": "code",
   "execution_count": 20,
   "metadata": {},
   "outputs": [
    {
     "data": {
      "text/plain": [
       "<sqlalchemy.engine.base.Connection at 0x1c534f863b0>"
      ]
     },
     "execution_count": 20,
     "metadata": {},
     "output_type": "execute_result"
    }
   ],
   "source": [
    "# credential to acces database\n",
    "username = \"root\"\n",
    "password = \"root\"\n",
    "host = \"127.0.0.1\"\n",
    "\n",
    "connect_string_local = 'mysql://'+username+':'+password+'@'+host+'/?charset=utf8mb4'\n",
    "SQL_ENGINE_LOCAL = sql.create_engine(connect_string_local, poolclass=NullPool)\n",
    "SQL_ENGINE_LOCAL.connect()"
   ]
  },
  {
   "cell_type": "code",
   "execution_count": 9,
   "metadata": {},
   "outputs": [
    {
     "name": "stdout",
     "output_type": "stream",
     "text": [
      "  Id  PosID                PosTitle EmployeeID StartDate     EndDate\n",
      "0  1  50000              IT Manager   10105001  1/1/2022   2/28/2022\n",
      "1  2  50001          IT Sr. Manager   10105001  3/1/2022  12/31/2022\n",
      "2  3  50002      Programmer Analyst   10105002  1/1/2022   2/28/2022\n",
      "3  4  50003  Sr. Programmer Analyst   10105002  3/1/2022  12/31/2022\n",
      "4  5  50004                IT Admin   10105003  1/1/2022   2/28/2022\n",
      "5  6  50005            IT Secretary   10105003  3/1/2022  12/31/2022\n"
     ]
    }
   ],
   "source": [
    "# get data from gsheet\n",
    "\n",
    "# Replace the path with the actual path to your downloaded JSON file\n",
    "credentials = ServiceAccountCredentials.from_json_keyfile_name('C:/Users/GDA-User/Documents/Reyki/kerja/2023 by project/Data Science Project/amman/ferrous-destiny-354809-46b226857da6.json')\n",
    "gc = gspread.authorize(credentials)\n",
    "\n",
    "# Replace 'Your Google Sheets Name' with the name of your Google Sheets document\n",
    "spreadsheet = gc.open('Training History')\n",
    "\n",
    "# Replace 'Sheet1' with the name of the sheet you want to read\n",
    "worksheet = spreadsheet.get_worksheet(0)  # Assuming you want the first sheet\n",
    "\n",
    "# Get all values from the worksheet\n",
    "data = worksheet.get_all_values()\n",
    "\n",
    "# Create a DataFrame\n",
    "columns = data[0]  # Assuming the first row contains column names\n",
    "df_sheet = pd.DataFrame(data[1:], columns=columns)\n",
    "\n",
    "# Print the DataFrame\n",
    "print(df_sheet)\n",
    "\n"
   ]
  },
  {
   "cell_type": "code",
   "execution_count": 21,
   "metadata": {},
   "outputs": [
    {
     "data": {
      "text/html": [
       "<div>\n",
       "<style scoped>\n",
       "    .dataframe tbody tr th:only-of-type {\n",
       "        vertical-align: middle;\n",
       "    }\n",
       "\n",
       "    .dataframe tbody tr th {\n",
       "        vertical-align: top;\n",
       "    }\n",
       "\n",
       "    .dataframe thead th {\n",
       "        text-align: right;\n",
       "    }\n",
       "</style>\n",
       "<table border=\"1\" class=\"dataframe\">\n",
       "  <thead>\n",
       "    <tr style=\"text-align: right;\">\n",
       "      <th></th>\n",
       "      <th>Id</th>\n",
       "      <th>EmployeeID</th>\n",
       "      <th>FullName</th>\n",
       "      <th>BirthDate</th>\n",
       "      <th>Address</th>\n",
       "    </tr>\n",
       "  </thead>\n",
       "  <tbody>\n",
       "    <tr>\n",
       "      <th>0</th>\n",
       "      <td>1</td>\n",
       "      <td>10105001</td>\n",
       "      <td>Ali Anton</td>\n",
       "      <td>1982-08-19</td>\n",
       "      <td>Jakarta Utara</td>\n",
       "    </tr>\n",
       "    <tr>\n",
       "      <th>1</th>\n",
       "      <td>2</td>\n",
       "      <td>10105002</td>\n",
       "      <td>Rara Siva</td>\n",
       "      <td>1982-01-01</td>\n",
       "      <td>Mandalika</td>\n",
       "    </tr>\n",
       "    <tr>\n",
       "      <th>2</th>\n",
       "      <td>3</td>\n",
       "      <td>10105003</td>\n",
       "      <td>Rini Aini</td>\n",
       "      <td>1982-02-20</td>\n",
       "      <td>Sumbawa Besar</td>\n",
       "    </tr>\n",
       "    <tr>\n",
       "      <th>3</th>\n",
       "      <td>4</td>\n",
       "      <td>10105004</td>\n",
       "      <td>Budi</td>\n",
       "      <td>1982-02-22</td>\n",
       "      <td>Mataram Kota</td>\n",
       "    </tr>\n",
       "  </tbody>\n",
       "</table>\n",
       "</div>"
      ],
      "text/plain": [
       "   Id EmployeeID   FullName   BirthDate        Address\n",
       "0   1   10105001  Ali Anton  1982-08-19  Jakarta Utara\n",
       "1   2   10105002  Rara Siva  1982-01-01      Mandalika\n",
       "2   3   10105003  Rini Aini  1982-02-20  Sumbawa Besar\n",
       "3   4   10105004       Budi  1982-02-22   Mataram Kota"
      ]
     },
     "execution_count": 21,
     "metadata": {},
     "output_type": "execute_result"
    }
   ],
   "source": [
    "# get data from database\n",
    "q=\"\"\"SELECT * from attn.employee\n",
    "\"\"\"\n",
    "df_sql = pd.read_sql_query(q, SQL_ENGINE_LOCAL)\n",
    "df_sql"
   ]
  },
  {
   "cell_type": "code",
   "execution_count": 24,
   "metadata": {},
   "outputs": [
    {
     "data": {
      "text/html": [
       "<div>\n",
       "<style scoped>\n",
       "    .dataframe tbody tr th:only-of-type {\n",
       "        vertical-align: middle;\n",
       "    }\n",
       "\n",
       "    .dataframe tbody tr th {\n",
       "        vertical-align: top;\n",
       "    }\n",
       "\n",
       "    .dataframe thead th {\n",
       "        text-align: right;\n",
       "    }\n",
       "</style>\n",
       "<table border=\"1\" class=\"dataframe\">\n",
       "  <thead>\n",
       "    <tr style=\"text-align: right;\">\n",
       "      <th></th>\n",
       "      <th>Id_x</th>\n",
       "      <th>EmployeeID</th>\n",
       "      <th>FullName</th>\n",
       "      <th>BirthDate</th>\n",
       "      <th>Address</th>\n",
       "      <th>Id_y</th>\n",
       "      <th>PosID</th>\n",
       "      <th>PosTitle</th>\n",
       "      <th>StartDate</th>\n",
       "      <th>EndDate</th>\n",
       "    </tr>\n",
       "  </thead>\n",
       "  <tbody>\n",
       "    <tr>\n",
       "      <th>0</th>\n",
       "      <td>1</td>\n",
       "      <td>10105001</td>\n",
       "      <td>Ali Anton</td>\n",
       "      <td>1982-08-19</td>\n",
       "      <td>Jakarta Utara</td>\n",
       "      <td>1</td>\n",
       "      <td>50000</td>\n",
       "      <td>IT Manager</td>\n",
       "      <td>1/1/2022</td>\n",
       "      <td>2/28/2022</td>\n",
       "    </tr>\n",
       "    <tr>\n",
       "      <th>1</th>\n",
       "      <td>1</td>\n",
       "      <td>10105001</td>\n",
       "      <td>Ali Anton</td>\n",
       "      <td>1982-08-19</td>\n",
       "      <td>Jakarta Utara</td>\n",
       "      <td>2</td>\n",
       "      <td>50001</td>\n",
       "      <td>IT Sr. Manager</td>\n",
       "      <td>3/1/2022</td>\n",
       "      <td>12/31/2022</td>\n",
       "    </tr>\n",
       "    <tr>\n",
       "      <th>2</th>\n",
       "      <td>2</td>\n",
       "      <td>10105002</td>\n",
       "      <td>Rara Siva</td>\n",
       "      <td>1982-01-01</td>\n",
       "      <td>Mandalika</td>\n",
       "      <td>3</td>\n",
       "      <td>50002</td>\n",
       "      <td>Programmer Analyst</td>\n",
       "      <td>1/1/2022</td>\n",
       "      <td>2/28/2022</td>\n",
       "    </tr>\n",
       "    <tr>\n",
       "      <th>3</th>\n",
       "      <td>2</td>\n",
       "      <td>10105002</td>\n",
       "      <td>Rara Siva</td>\n",
       "      <td>1982-01-01</td>\n",
       "      <td>Mandalika</td>\n",
       "      <td>4</td>\n",
       "      <td>50003</td>\n",
       "      <td>Sr. Programmer Analyst</td>\n",
       "      <td>3/1/2022</td>\n",
       "      <td>12/31/2022</td>\n",
       "    </tr>\n",
       "    <tr>\n",
       "      <th>4</th>\n",
       "      <td>3</td>\n",
       "      <td>10105003</td>\n",
       "      <td>Rini Aini</td>\n",
       "      <td>1982-02-20</td>\n",
       "      <td>Sumbawa Besar</td>\n",
       "      <td>5</td>\n",
       "      <td>50004</td>\n",
       "      <td>IT Admin</td>\n",
       "      <td>1/1/2022</td>\n",
       "      <td>2/28/2022</td>\n",
       "    </tr>\n",
       "    <tr>\n",
       "      <th>5</th>\n",
       "      <td>3</td>\n",
       "      <td>10105003</td>\n",
       "      <td>Rini Aini</td>\n",
       "      <td>1982-02-20</td>\n",
       "      <td>Sumbawa Besar</td>\n",
       "      <td>6</td>\n",
       "      <td>50005</td>\n",
       "      <td>IT Secretary</td>\n",
       "      <td>3/1/2022</td>\n",
       "      <td>12/31/2022</td>\n",
       "    </tr>\n",
       "    <tr>\n",
       "      <th>6</th>\n",
       "      <td>4</td>\n",
       "      <td>10105004</td>\n",
       "      <td>Budi</td>\n",
       "      <td>1982-02-22</td>\n",
       "      <td>Mataram Kota</td>\n",
       "      <td>NaN</td>\n",
       "      <td>NaN</td>\n",
       "      <td>NaN</td>\n",
       "      <td>NaN</td>\n",
       "      <td>NaN</td>\n",
       "    </tr>\n",
       "  </tbody>\n",
       "</table>\n",
       "</div>"
      ],
      "text/plain": [
       "   Id_x EmployeeID   FullName   BirthDate        Address Id_y  PosID  \\\n",
       "0     1   10105001  Ali Anton  1982-08-19  Jakarta Utara    1  50000   \n",
       "1     1   10105001  Ali Anton  1982-08-19  Jakarta Utara    2  50001   \n",
       "2     2   10105002  Rara Siva  1982-01-01      Mandalika    3  50002   \n",
       "3     2   10105002  Rara Siva  1982-01-01      Mandalika    4  50003   \n",
       "4     3   10105003  Rini Aini  1982-02-20  Sumbawa Besar    5  50004   \n",
       "5     3   10105003  Rini Aini  1982-02-20  Sumbawa Besar    6  50005   \n",
       "6     4   10105004       Budi  1982-02-22   Mataram Kota  NaN    NaN   \n",
       "\n",
       "                 PosTitle StartDate     EndDate  \n",
       "0              IT Manager  1/1/2022   2/28/2022  \n",
       "1          IT Sr. Manager  3/1/2022  12/31/2022  \n",
       "2      Programmer Analyst  1/1/2022   2/28/2022  \n",
       "3  Sr. Programmer Analyst  3/1/2022  12/31/2022  \n",
       "4                IT Admin  1/1/2022   2/28/2022  \n",
       "5            IT Secretary  3/1/2022  12/31/2022  \n",
       "6                     NaN       NaN         NaN  "
      ]
     },
     "execution_count": 24,
     "metadata": {},
     "output_type": "execute_result"
    }
   ],
   "source": [
    "# Perform a left join on 'EmployeeID'\n",
    "result_df = pd.merge( df_sql,df_sheet, on='EmployeeID', how='left')\n",
    "result_df"
   ]
  },
  {
   "cell_type": "code",
   "execution_count": null,
   "metadata": {},
   "outputs": [],
   "source": [
    "result_df"
   ]
  },
  {
   "cell_type": "code",
   "execution_count": 25,
   "metadata": {},
   "outputs": [
    {
     "data": {
      "text/plain": [
       "7"
      ]
     },
     "execution_count": 25,
     "metadata": {},
     "output_type": "execute_result"
    }
   ],
   "source": [
    "\n",
    "# Writing the DataFrame to the SQL database\n",
    "result_df.to_sql(con=SQL_ENGINE_LOCAL,\n",
    "                 name='result_amman',\n",
    "                 schema='attn',\n",
    "                 index=False,\n",
    "                 if_exists='append',  # Change to 'replace' if you want to replace the table\n",
    "                 method='multi',  # Use 'multi' for improved performance\n",
    "                 chunksize=500  # Adjust the chunk size based on your available memory\n",
    "                 )"
   ]
  },
  {
   "cell_type": "code",
   "execution_count": 27,
   "metadata": {},
   "outputs": [],
   "source": [
    "#save into csv\n",
    "result_df.to_csv(\"result.csv\")"
   ]
  }
 ],
 "metadata": {
  "kernelspec": {
   "display_name": "Python 3",
   "language": "python",
   "name": "python3"
  },
  "language_info": {
   "codemirror_mode": {
    "name": "ipython",
    "version": 3
   },
   "file_extension": ".py",
   "mimetype": "text/x-python",
   "name": "python",
   "nbconvert_exporter": "python",
   "pygments_lexer": "ipython3",
   "version": "3.10.7"
  }
 },
 "nbformat": 4,
 "nbformat_minor": 2
}
